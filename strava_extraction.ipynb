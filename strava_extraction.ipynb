{
 "cells": [
  {
   "cell_type": "code",
   "execution_count": 17,
   "id": "9ddc9e66",
   "metadata": {},
   "outputs": [],
   "source": [
    "from fitparse import FitFile\n",
    "import pandas as pd"
   ]
  },
  {
   "cell_type": "code",
   "execution_count": 18,
   "id": "a3170925",
   "metadata": {},
   "outputs": [],
   "source": [
    "\n",
    "fitfile = FitFile(\"Strava/Brugai_Monte_Parè.fit\")\n",
    "\n",
    "data = []"
   ]
  },
  {
   "cell_type": "code",
   "execution_count": 19,
   "id": "28bb16cd",
   "metadata": {},
   "outputs": [],
   "source": [
    "for record in fitfile.get_messages('record'):\n",
    "    record_data = {}\n",
    "    for field in record:\n",
    "        record_data[field.name] = field.value\n",
    "    data.append(record_data)"
   ]
  },
  {
   "cell_type": "code",
   "execution_count": 20,
   "id": "a51b1447",
   "metadata": {},
   "outputs": [],
   "source": [
    "df = pd.DataFrame(data)"
   ]
  },
  {
   "cell_type": "code",
   "execution_count": 21,
   "id": "d0f237a2",
   "metadata": {},
   "outputs": [
    {
     "data": {
      "text/html": [
       "<div>\n",
       "<style scoped>\n",
       "    .dataframe tbody tr th:only-of-type {\n",
       "        vertical-align: middle;\n",
       "    }\n",
       "\n",
       "    .dataframe tbody tr th {\n",
       "        vertical-align: top;\n",
       "    }\n",
       "\n",
       "    .dataframe thead th {\n",
       "        text-align: right;\n",
       "    }\n",
       "</style>\n",
       "<table border=\"1\" class=\"dataframe\">\n",
       "  <thead>\n",
       "    <tr style=\"text-align: right;\">\n",
       "      <th></th>\n",
       "      <th>enhanced_altitude</th>\n",
       "      <th>enhanced_speed</th>\n",
       "      <th>gps_accuracy</th>\n",
       "      <th>position_lat</th>\n",
       "      <th>position_long</th>\n",
       "      <th>speed</th>\n",
       "      <th>timestamp</th>\n",
       "      <th>distance</th>\n",
       "    </tr>\n",
       "  </thead>\n",
       "  <tbody>\n",
       "    <tr>\n",
       "      <th>0</th>\n",
       "      <td>832.0</td>\n",
       "      <td>0.232</td>\n",
       "      <td>1.0</td>\n",
       "      <td>547582290.0</td>\n",
       "      <td>119501110.0</td>\n",
       "      <td>0.232</td>\n",
       "      <td>2025-07-27 06:11:54</td>\n",
       "      <td>NaN</td>\n",
       "    </tr>\n",
       "    <tr>\n",
       "      <th>1</th>\n",
       "      <td>NaN</td>\n",
       "      <td>NaN</td>\n",
       "      <td>NaN</td>\n",
       "      <td>NaN</td>\n",
       "      <td>NaN</td>\n",
       "      <td>NaN</td>\n",
       "      <td>2025-07-27 06:11:54</td>\n",
       "      <td>0.0</td>\n",
       "    </tr>\n",
       "    <tr>\n",
       "      <th>2</th>\n",
       "      <td>831.6</td>\n",
       "      <td>0.192</td>\n",
       "      <td>1.0</td>\n",
       "      <td>547582299.0</td>\n",
       "      <td>119501100.0</td>\n",
       "      <td>0.192</td>\n",
       "      <td>2025-07-27 06:11:54</td>\n",
       "      <td>NaN</td>\n",
       "    </tr>\n",
       "    <tr>\n",
       "      <th>3</th>\n",
       "      <td>NaN</td>\n",
       "      <td>NaN</td>\n",
       "      <td>NaN</td>\n",
       "      <td>NaN</td>\n",
       "      <td>NaN</td>\n",
       "      <td>NaN</td>\n",
       "      <td>2025-07-27 06:11:54</td>\n",
       "      <td>0.0</td>\n",
       "    </tr>\n",
       "    <tr>\n",
       "      <th>4</th>\n",
       "      <td>831.0</td>\n",
       "      <td>0.187</td>\n",
       "      <td>1.0</td>\n",
       "      <td>547582315.0</td>\n",
       "      <td>119501081.0</td>\n",
       "      <td>0.187</td>\n",
       "      <td>2025-07-27 06:11:55</td>\n",
       "      <td>NaN</td>\n",
       "    </tr>\n",
       "  </tbody>\n",
       "</table>\n",
       "</div>"
      ],
      "text/plain": [
       "   enhanced_altitude  enhanced_speed  gps_accuracy  position_lat  \\\n",
       "0              832.0           0.232           1.0   547582290.0   \n",
       "1                NaN             NaN           NaN           NaN   \n",
       "2              831.6           0.192           1.0   547582299.0   \n",
       "3                NaN             NaN           NaN           NaN   \n",
       "4              831.0           0.187           1.0   547582315.0   \n",
       "\n",
       "   position_long  speed           timestamp  distance  \n",
       "0    119501110.0  0.232 2025-07-27 06:11:54       NaN  \n",
       "1            NaN    NaN 2025-07-27 06:11:54       0.0  \n",
       "2    119501100.0  0.192 2025-07-27 06:11:54       NaN  \n",
       "3            NaN    NaN 2025-07-27 06:11:54       0.0  \n",
       "4    119501081.0  0.187 2025-07-27 06:11:55       NaN  "
      ]
     },
     "execution_count": 21,
     "metadata": {},
     "output_type": "execute_result"
    }
   ],
   "source": [
    "df.head() "
   ]
  },
  {
   "cell_type": "code",
   "execution_count": 22,
   "id": "d31ca418",
   "metadata": {},
   "outputs": [
    {
     "name": "stdout",
     "output_type": "stream",
     "text": [
      "<class 'pandas.core.frame.DataFrame'>\n",
      "RangeIndex: 59382 entries, 0 to 59381\n",
      "Data columns (total 8 columns):\n",
      " #   Column             Non-Null Count  Dtype         \n",
      "---  ------             --------------  -----         \n",
      " 0   enhanced_altitude  29691 non-null  float64       \n",
      " 1   enhanced_speed     29691 non-null  float64       \n",
      " 2   gps_accuracy       29691 non-null  float64       \n",
      " 3   position_lat       29691 non-null  float64       \n",
      " 4   position_long      29691 non-null  float64       \n",
      " 5   speed              29691 non-null  float64       \n",
      " 6   timestamp          59382 non-null  datetime64[ns]\n",
      " 7   distance           29691 non-null  float64       \n",
      "dtypes: datetime64[ns](1), float64(7)\n",
      "memory usage: 3.6 MB\n"
     ]
    }
   ],
   "source": [
    "df.info()"
   ]
  }
 ],
 "metadata": {
  "kernelspec": {
   "display_name": "venv",
   "language": "python",
   "name": "python3"
  },
  "language_info": {
   "codemirror_mode": {
    "name": "ipython",
    "version": 3
   },
   "file_extension": ".py",
   "mimetype": "text/x-python",
   "name": "python",
   "nbconvert_exporter": "python",
   "pygments_lexer": "ipython3",
   "version": "3.13.5"
  }
 },
 "nbformat": 4,
 "nbformat_minor": 5
}
